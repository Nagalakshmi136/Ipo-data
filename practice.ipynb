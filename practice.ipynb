{
 "cells": [
  {
   "cell_type": "code",
   "execution_count": 2,
   "metadata": {},
   "outputs": [
    {
     "ename": "ImportError",
     "evalue": "attempted relative import with no known parent package",
     "output_type": "error",
     "traceback": [
      "\u001b[0;31m---------------------------------------------------------------------------\u001b[0m",
      "\u001b[0;31mImportError\u001b[0m                               Traceback (most recent call last)",
      "Cell \u001b[0;32mIn[2], line 3\u001b[0m\n\u001b[1;32m      1\u001b[0m \u001b[38;5;28;01mimport\u001b[39;00m \u001b[38;5;21;01mrequests\u001b[39;00m \n\u001b[1;32m      2\u001b[0m \u001b[38;5;28;01mfrom\u001b[39;00m \u001b[38;5;21;01mbs4\u001b[39;00m \u001b[38;5;28;01mimport\u001b[39;00m BeautifulSoup\n\u001b[0;32m----> 3\u001b[0m \u001b[38;5;28;01mfrom\u001b[39;00m \u001b[38;5;21;01m.\u001b[39;00m\u001b[38;5;21;01mipopy\u001b[39;00m\u001b[38;5;21;01m.\u001b[39;00m\u001b[38;5;21;01mdata_fetchers\u001b[39;00m \u001b[38;5;28;01mimport\u001b[39;00m ipo_premium\n\u001b[1;32m      4\u001b[0m \u001b[38;5;28;01mfrom\u001b[39;00m \u001b[38;5;21;01m.\u001b[39;00m\u001b[38;5;21;01mipopy\u001b[39;00m\u001b[38;5;21;01m.\u001b[39;00m\u001b[38;5;21;01mdata_fetchers\u001b[39;00m \u001b[38;5;28;01mimport\u001b[39;00m gmp_today\n\u001b[1;32m      5\u001b[0m \u001b[38;5;66;03m# from constants import IPO_PREMIUM_URL, GMP_TODAY_URL\u001b[39;00m\n\u001b[1;32m      6\u001b[0m \u001b[38;5;66;03m# from selenium import webdriver\u001b[39;00m\n\u001b[1;32m      7\u001b[0m \u001b[38;5;66;03m# from ipopy.config.config import CHROME_PROFILE_PATH\u001b[39;00m\n",
      "\u001b[0;31mImportError\u001b[0m: attempted relative import with no known parent package"
     ]
    }
   ],
   "source": [
    "import requests \n",
    "from bs4 import BeautifulSoup\n",
    "from .ipopy.data_fetchers import ipo_premiu?\n",
    "# from constants import IPO_PREMIUM_URL, GMP_TODAY_URL\n",
    "# from selenium import webdriver\n",
    "# from ipopy.config.config import CHROME_PROFILE_PATH\n",
    "from selenium.webdriver.support.ui import WebDriverWait\n",
    "from selenium.webdriver.common.by import By\n",
    "from selenium.webdriver.common.keys import Keys\n",
    "from selenium.webdriver.support import expected_conditions as EC\n",
    "from selenium.webdriver.chrome.service import Service\n",
    "from webdriver_manager.chrome import ChromeDriverManager\n",
    "from datetime import datetime\n",
    "import time"
   ]
  },
  {
   "cell_type": "code",
   "execution_count": 50,
   "metadata": {},
   "outputs": [],
   "source": [
    "LEET_CODE = 'https://www.codechef.com/contests'\n",
    "response = requests.get(LEET_CODE)\n",
    "soup = BeautifulSoup(response.content,'lxml')\n",
    "div = soup.find_all('div',class_=\"five wide computer five wide large screen eight wide mobile seven wide tablet five wide widescreen column\")"
   ]
  },
  {
   "cell_type": "code",
   "execution_count": 2,
   "metadata": {},
   "outputs": [],
   "source": [
    "dic = {1:{\n",
    "    'name': 'kumar',\n",
    "    'age':21\n",
    "},\n",
    "2:{\n",
    "    'name': 'satish',\n",
    "    'age':231\n",
    "}\n",
    "}"
   ]
  },
  {
   "cell_type": "code",
   "execution_count": 3,
   "metadata": {},
   "outputs": [
    {
     "data": {
      "text/plain": [
       "'munikumar'"
      ]
     },
     "execution_count": 3,
     "metadata": {},
     "output_type": "execute_result"
    }
   ],
   "source": [
    "import os\n",
    "import platform \n",
    "platform.system()\n",
    "os.getlogin()"
   ]
  },
  {
   "cell_type": "code",
   "execution_count": 1,
   "metadata": {},
   "outputs": [
    {
     "ename": "ImportError",
     "evalue": "cannot import name 'ChromeDriverSingleton' from 'ipopy.utils.webdriver_utils' (/home/munikumar/Desktop/ipoPy/ipopy/utils/webdriver_utils.py)",
     "output_type": "error",
     "traceback": [
      "\u001b[0;31m---------------------------------------------------------------------------\u001b[0m",
      "\u001b[0;31mImportError\u001b[0m                               Traceback (most recent call last)",
      "Cell \u001b[0;32mIn[1], line 10\u001b[0m\n\u001b[1;32m      8\u001b[0m \u001b[38;5;28;01mfrom\u001b[39;00m \u001b[38;5;21;01mipopy\u001b[39;00m\u001b[38;5;21;01m.\u001b[39;00m\u001b[38;5;21;01mutils\u001b[39;00m \u001b[38;5;28;01mimport\u001b[39;00m validators\n\u001b[1;32m      9\u001b[0m \u001b[38;5;28;01mfrom\u001b[39;00m \u001b[38;5;21;01mipopy\u001b[39;00m\u001b[38;5;21;01m.\u001b[39;00m\u001b[38;5;21;01mutils\u001b[39;00m\u001b[38;5;21;01m.\u001b[39;00m\u001b[38;5;21;01mdate_utils\u001b[39;00m \u001b[38;5;28;01mimport\u001b[39;00m validate_date_format\n\u001b[0;32m---> 10\u001b[0m \u001b[38;5;28;01mfrom\u001b[39;00m \u001b[38;5;21;01mipopy\u001b[39;00m\u001b[38;5;21;01m.\u001b[39;00m\u001b[38;5;21;01mutils\u001b[39;00m\u001b[38;5;21;01m.\u001b[39;00m\u001b[38;5;21;01mwebdriver_utils\u001b[39;00m \u001b[38;5;28;01mimport\u001b[39;00m ChromeDriverSingleton\n\u001b[1;32m     11\u001b[0m \u001b[38;5;28;01mfrom\u001b[39;00m \u001b[38;5;21;01mipopy\u001b[39;00m\u001b[38;5;21;01m.\u001b[39;00m\u001b[38;5;21;01mconfig\u001b[39;00m\u001b[38;5;21;01m.\u001b[39;00m\u001b[38;5;21;01mconfig_loader\u001b[39;00m \u001b[38;5;28;01mimport\u001b[39;00m (\n\u001b[1;32m     12\u001b[0m     WHATSAPP_MESSAGE_TEXTFIELD_XPATH,\n\u001b[1;32m     13\u001b[0m     WHATSAPP_SEARCH_BOX_XPATH,\n\u001b[1;32m     14\u001b[0m )\n\u001b[1;32m     15\u001b[0m \u001b[38;5;28;01mfrom\u001b[39;00m \u001b[38;5;21;01mipopy\u001b[39;00m\u001b[38;5;21;01m.\u001b[39;00m\u001b[38;5;21;01mutils\u001b[39;00m\u001b[38;5;21;01m.\u001b[39;00m\u001b[38;5;21;01mexceptions\u001b[39;00m \u001b[38;5;28;01mimport\u001b[39;00m ContactNotFoundException\n",
      "\u001b[0;31mImportError\u001b[0m: cannot import name 'ChromeDriverSingleton' from 'ipopy.utils.webdriver_utils' (/home/munikumar/Desktop/ipoPy/ipopy/utils/webdriver_utils.py)"
     ]
    }
   ],
   "source": [
    "\n",
    "from ipopy.data_fetchers.ipo_premium import IpoPremiumFetcher\n",
    "from ipopy.data_fetchers.gmp_today import GmpTodayDataFetcher\n",
    "from selenium.webdriver.support.ui import WebDriverWait\n",
    "from selenium.webdriver.common.keys import Keys\n",
    "from datetime import datetime\n",
    "import time\n",
    "from ipopy.utils.urls import WHATSAPP_URL\n",
    "from ipopy.utils import validators\n",
    "from ipopy.utils.date_utils import validate_date_format\n",
    "from ipopy.utils.webdriver_utils import ChromeDriverSingleton\n",
    "from ipopy.config.config_loader import (\n",
    "    WHATSAPP_MESSAGE_TEXTFIELD_XPATH,\n",
    "    WHATSAPP_SEARCH_BOX_XPATH,\n",
    ")\n",
    "from ipopy.utils.exceptions import ContactNotFoundException\n",
    "# import ActionChains"
   ]
  },
  {
   "cell_type": "code",
   "execution_count": 22,
   "metadata": {},
   "outputs": [],
   "source": [
    "driver = ChromeDriverSingleton.get_instance()\n",
    "wait = WebDriverWait(driver, 60)\n",
    "\n",
    "# Collect IPO data from GMP Today websites\n",
    "# ipo_gmp_data = GmpTodayDataFetcher(driver, wait).get_data(target_date)\n",
    "\n",
    "# Open WhatsApp Web\n",
    "driver.get(WHATSAPP_URL)\n",
    "\n",
    "# Search for the WhatsApp contact or group\n",
    "search_box = validators.find_element_by_xpath(wait, WHATSAPP_SEARCH_BOX_XPATH)\n",
    "search_box.send_keys(\"Ipo\")\n",
    "try:\n",
    "    contact = validators.find_element_by_xpath(wait, f'//span[@title=\"Ipo\"]')\n",
    "    contact.click()\n",
    "\n",
    "except Exception as exc_info:\n",
    "    raise ContactNotFoundException(\"Ipo\") from exc_info\n",
    "\n",
    "# Search for the input field to send messages to the target group\n",
    "message_textfield = validators.find_element_by_xpath(\n",
    "    wait, WHATSAPP_MESSAGE_TEXTFIELD_XPATH\n",
    ")\n",
    "msg = f\"ArithmeticError,\\n\" '\"balue\": 2343,\\n' '\"name\": \"kumar\",\\n' '\"price\": 2343'\n",
    "\n",
    "for line in msg.split(\"\\n\"):\n",
    "    message_textfield.send_keys(line + Keys.SHIFT + Keys.ENTER)\n",
    "message_textfield.send_keys(Keys.ENTER)\n",
    "# driver.quit()"
   ]
  },
  {
   "cell_type": "code",
   "execution_count": 20,
   "metadata": {},
   "outputs": [],
   "source": [
    "def func(i):\n",
    "    try: \n",
    "        print('hello')\n",
    "        if(i!=10):\n",
    "            raise Exception('exception raised')\n",
    "        return i+1\n",
    "    except Exception as e:\n",
    "        print(e) \n",
    "    return i+1"
   ]
  },
  {
   "cell_type": "code",
   "execution_count": 21,
   "metadata": {},
   "outputs": [
    {
     "name": "stdout",
     "output_type": "stream",
     "text": [
      "hello\n",
      "exception raised\n",
      "world\n",
      "2\n"
     ]
    }
   ],
   "source": [
    "a = func(1)\n",
    "print('world')\n",
    "print(a)"
   ]
  },
  {
   "cell_type": "code",
   "execution_count": 16,
   "metadata": {},
   "outputs": [],
   "source": [
    "from selenium import webdriver\n",
    "from selenium.webdriver.common.keys import Keys\n",
    "from selenium.webdriver.chrome.service import Service\n",
    "from webdriver_manager.chrome import ChromeDriverManager\n",
    "from selenium.webdriver.common.by import By\n",
    "from selenium.webdriver.support.ui import WebDriverWait\n",
    "from selenium.webdriver.support import expected_conditions as EC\n",
    "from selenium.webdriver.common.keys import Keys\n",
    "from ipopy.config.config_loader import CHROME_PROFILE_PATH, WHATSAPP_SEARCH_BOX_XPATH"
   ]
  },
  {
   "cell_type": "code",
   "execution_count": 8,
   "metadata": {},
   "outputs": [],
   "source": [
    "options = webdriver.ChromeOptions()\n",
    "options.add_experimental_option(\"detach\", True)\n",
    "options.add_argument(CHROME_PROFILE_PATH)\n",
    "driver = webdriver.Chrome(service=Service(ChromeDriverManager().install()),options=options)\n",
    "driver.get(WHATSAPP_URL)\n",
    "wait = WebDriverWait(driver,500)\n",
    "search_box = WebDriverWait(driver, 30).until(\n",
    "    EC.presence_of_element_located((By.XPATH, WHATSAPP_SEARCH_BOX_XPATH))\n",
    ")\n",
    "search_box.send_keys(\"Ipo\")\n",
    "# title_paths = ''\n",
    "# title_elements = wait.until(EC.presence_of_all_elements_located((By.XPATH,title_paths)))\n",
    "# titles = []"
   ]
  },
  {
   "cell_type": "code",
   "execution_count": 15,
   "metadata": {},
   "outputs": [
    {
     "name": "stdout",
     "output_type": "stream",
     "text": [
      "Deleting /home/munikumar/Desktop/ipoPy/tests/__pycache__\n",
      "Deleting /home/munikumar/Desktop/ipoPy/tests/notifications/__pycache__\n",
      "Deleting /home/munikumar/Desktop/ipoPy/tests/data_fetchers/__pycache__\n",
      "Deleting /home/munikumar/Desktop/ipoPy/tests/utils/__pycache__\n",
      "Deleting /home/munikumar/Desktop/ipoPy/ipopy/__pycache__\n",
      "Deleting /home/munikumar/Desktop/ipoPy/ipopy/notifications/__pycache__\n",
      "Deleting /home/munikumar/Desktop/ipoPy/ipopy/data_fetchers/__pycache__\n",
      "Deleting /home/munikumar/Desktop/ipoPy/ipopy/config/__pycache__\n",
      "Deleting /home/munikumar/Desktop/ipoPy/ipopy/models/__pycache__\n",
      "Deleting /home/munikumar/Desktop/ipoPy/ipopy/utils/__pycache__\n"
     ]
    }
   ],
   "source": [
    "import os\n",
    "import shutil\n",
    "\n",
    "\n",
    "def delete_pycache(root_dir: str, folder_name: str):\n",
    "    \"\"\"\n",
    "    Deletes a folder and its contents from a given root directory.\n",
    "\n",
    "    Parameters\n",
    "    ----------\n",
    "    root_dir: `str`\n",
    "        The path of the root directory to traverse.\n",
    "    folder_name: `str`\n",
    "        The name of the folder to delete.\n",
    "\n",
    "    Raises\n",
    "    ------\n",
    "    OSError:\n",
    "        If the folder cannot be deleted due to permission or other errors.\n",
    "\n",
    "    Examples\n",
    "    --------\n",
    "    >>> delete_folder(\"Users/Admin/Documents\", \"pycache\")\n",
    "        Deleting Users/Admin/Documents_pycache_\n",
    "        Deleting Users/Admin/Documents/project_pycache_\n",
    "    \"\"\"\n",
    "    # Traverse through the directory tree\n",
    "    for dirpath, dirnames, _ in os.walk(root_dir):\n",
    "        # Check if the specified folder exists in the current directory\n",
    "        if folder_name in dirnames:\n",
    "            # Get the full path of the pycache folder\n",
    "            pycache_folder_path = os.path.join(dirpath, folder_name)\n",
    "\n",
    "            # Print the path of the folder being deleted\n",
    "            print(f\"Deleting {pycache_folder_path}\")\n",
    "\n",
    "            # Delete the pycache folder and its contents\n",
    "            shutil.rmtree(pycache_folder_path)\n",
    "delete_pycache(os.getcwd(), \"__pycache__\")"
   ]
  },
  {
   "cell_type": "code",
   "execution_count": 12,
   "metadata": {},
   "outputs": [
    {
     "data": {
      "text/plain": [
       "'.'"
      ]
     },
     "execution_count": 12,
     "metadata": {},
     "output_type": "execute_result"
    }
   ],
   "source": [
    "os."
   ]
  },
  {
   "cell_type": "code",
   "execution_count": 63,
   "metadata": {},
   "outputs": [],
   "source": [
    "for i in range(4):\n",
    "    if 'Weekly' in title_elements[i].text:\n",
    "        titles.append(title_elements[i].text)"
   ]
  },
  {
   "cell_type": "code",
   "execution_count": null,
   "metadata": {},
   "outputs": [],
   "source": []
  },
  {
   "cell_type": "code",
   "execution_count": 64,
   "metadata": {},
   "outputs": [
    {
     "data": {
      "text/plain": [
       "['February 11, 2024\\n07:00 PM IST\\nGFG Weekly Coding Contest - 141',\n",
       " 'February 17, 2024\\n12:00 AM IST\\nGATE 2025 - All India Scholarship Test',\n",
       " 'February 18, 2024\\n07:00 PM IST\\nGFG Weekly Coding Contest - 142',\n",
       " 'February 21, 2024\\n08:00 PM IST\\nJob-A-Thon 30 Hiring Challenge',\n",
       " 'February 11, 2024\\n07:00 PM IST\\nGFG Weekly Coding Contest - 141',\n",
       " 'February 18, 2024\\n07:00 PM IST\\nGFG Weekly Coding Contest - 142']"
      ]
     },
     "execution_count": 64,
     "metadata": {},
     "output_type": "execute_result"
    }
   ],
   "source": [
    "titles"
   ]
  },
  {
   "cell_type": "code",
   "execution_count": 1,
   "metadata": {},
   "outputs": [],
   "source": [
    "from ipopy.models.ipo_data_model import IpoDataInfo"
   ]
  },
  {
   "cell_type": "code",
   "execution_count": 7,
   "metadata": {},
   "outputs": [
    {
     "data": {
      "text/plain": [
       "\"'IPO NAME' : sar,\\n'PREMIUM' : 122,\\n'OPEN DATE' : e232,\\n'CLOSE DATE' : 323,\\n'PRICE' : 3243,\\n'ALLOTMENT DATE' : 3243,\\n'LISTING DATE' : None\\n\""
      ]
     },
     "execution_count": 7,
     "metadata": {},
     "output_type": "execute_result"
    }
   ],
   "source": [
    "data = IpoDataInfo('sar','122','e232','323','3243','3243',None)\n",
    "str(data)"
   ]
  },
  {
   "cell_type": "code",
   "execution_count": null,
   "metadata": {},
   "outputs": [],
   "source": []
  },
  {
   "cell_type": "code",
   "execution_count": null,
   "metadata": {},
   "outputs": [],
   "source": []
  }
 ],
 "metadata": {
  "kernelspec": {
   "display_name": "ipo_py",
   "language": "python",
   "name": "python3"
  },
  "language_info": {
   "codemirror_mode": {
    "name": "ipython",
    "version": 3
   },
   "file_extension": ".py",
   "mimetype": "text/x-python",
   "name": "python",
   "nbconvert_exporter": "python",
   "pygments_lexer": "ipython3",
   "version": "3.12.3"
  },
  "orig_nbformat": 4
 },
 "nbformat": 4,
 "nbformat_minor": 2
}
